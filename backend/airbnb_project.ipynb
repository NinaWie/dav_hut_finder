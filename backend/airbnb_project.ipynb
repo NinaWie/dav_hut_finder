{
 "cells": [
  {
   "cell_type": "code",
   "execution_count": 7,
   "id": "f15fadd9-741e-4a2c-a412-b1944f44070e",
   "metadata": {},
   "outputs": [],
   "source": [
    "import pandas as pd\n",
    "import matplotlib.pyplot as plt"
   ]
  },
  {
   "cell_type": "markdown",
   "id": "3cd8987a-0475-4ce3-ada8-12a4e132b00c",
   "metadata": {},
   "source": [
    "## Public transport stations for a specific area"
   ]
  },
  {
   "cell_type": "code",
   "execution_count": 10,
   "id": "dcb3993b-0773-4f4e-bce2-93eae7db1cfb",
   "metadata": {},
   "outputs": [
    {
     "name": "stdout",
     "output_type": "stream",
     "text": [
      "Raw POIs length 243\n"
     ]
    }
   ],
   "source": [
    "from pyrosm import OSM\n",
    "from pyrosm import get_data\n",
    "\n",
    "for city in [\"Zuerich\"]:\n",
    "    # download data for a specific city\n",
    "    fp = get_data(city)\n",
    "    \n",
    "    # Initialize the OSM parser object\n",
    "    osm = OSM(fp)\n",
    "\n",
    "    # Filter for PT stations\n",
    "    custom_filter = {\n",
    "        \"public_transport\": [\"station\"],\n",
    "    }\n",
    "    pois = osm.get_data_by_custom_criteria(custom_filter=custom_filter, keep_ways=False, keep_relations=False)\n",
    "    print(\"Raw POIs length\", len(pois))"
   ]
  },
  {
   "cell_type": "code",
   "execution_count": 8,
   "id": "8af86af6-7853-44d2-850a-8c1b8bdab80f",
   "metadata": {},
   "outputs": [
    {
     "data": {
      "image/png": "[encoded data removed]",
      "text/plain": [
       "<Figure size 640x480 with 1 Axes>"
      ]
     },
     "metadata": {},
     "output_type": "display_data"
    }
   ],
   "source": [
    "# plot points with geopandas\n",
    "pois.plot()\n",
    "plt.xlabel(\"longitude\")\n",
    "plt.ylabel(\"latitude\")\n",
    "plt.show()"
   ]
  },
  {
   "cell_type": "markdown",
   "id": "d85f457f-caf9-4bdf-82f3-566a301908ce",
   "metadata": {},
   "source": [
    "### All Public Transport stations worldwide via Overpass API\n",
    "\n",
    "Not tested yet, probably takes forever"
   ]
  },
  {
   "cell_type": "code",
   "execution_count": null,
   "id": "084aef00-4c8b-468d-bb9b-691d638d645c",
   "metadata": {
    "scrolled": true
   },
   "outputs": [],
   "source": [
    "import requests\n",
    "import pandas as pd\n",
    "\n",
    "# Overpass API endpoint\n",
    "overpass_url = \"http://overpass-api.de/api/interpreter\"\n",
    "\n",
    "# Overpass QL query to get public transport stations\n",
    "overpass_query = \"\"\"\n",
    "[out:json][timeout:900];\n",
    "(\n",
    "  node[\"public_transport\"=\"station\"];\n",
    ");\n",
    "out center;\n",
    "\"\"\"\n",
    "\n",
    "# Send the query to the Overpass API\n",
    "response = requests.get(overpass_url, params={'data': overpass_query})\n",
    "data = response.json()\n",
    "\n",
    "# Parse the response\n",
    "elements = data['elements']\n",
    "\n",
    "# Extract relevant information\n",
    "stations = []\n",
    "for elem in elements:\n",
    "    station = {\n",
    "        'id': elem['id'],\n",
    "        'type': elem['type'],\n",
    "        'lat': elem.get('lat', elem['center']['lat']),\n",
    "        'lon': elem.get('lon', elem['center']['lon']),\n",
    "        'tags': elem.get('tags', {})\n",
    "    }\n",
    "    stations.append(station)\n",
    "\n",
    "# Convert to DataFrame\n",
    "stations_df = pd.DataFrame(stations)\n",
    "\n",
    "# Display the resulting DataFrame\n",
    "import ace_tools as tools; tools.display_dataframe_to_user(name=\"Worldwide Public Transport Stations\", dataframe=stations_df)\n",
    "\n",
    "# Optionally, you can save the DataFrame to a CSV file\n",
    "stations_df.to_csv(\"worldwide_public_transport_stations.csv\", index=False)\n",
    "\n"
   ]
  },
  {
   "cell_type": "markdown",
   "id": "6aaad865-3d52-4d1a-8fd5-aced92feeae5",
   "metadata": {},
   "source": [
    "### Airbnb API\n",
    "ChatGPT code - not tested yet"
   ]
  },
  {
   "cell_type": "code",
   "execution_count": null,
   "id": "6ee4036c-2d99-421c-9932-be720d46e9e5",
   "metadata": {},
   "outputs": [],
   "source": [
    "import requests\n",
    "from bs4 import BeautifulSoup\n",
    "import pandas as pd\n",
    "import time\n",
    "import json\n",
    "\n",
    "def get_airbnb_listings(location, page=1):\n",
    "    url = f\"https://www.airbnb.com/s/{location}/homes\"\n",
    "    params = {\n",
    "        'items_offset': (page - 1) * 20,\n",
    "        'section_offset': '0'\n",
    "    }\n",
    "    headers = {\n",
    "        'User-Agent': 'Mozilla/5.0 (Windows NT 10.0; Win64; x64) AppleWebKit/537.36 (KHTML, like Gecko) Chrome/91.0.4472.124 Safari/537.36'\n",
    "    }\n",
    "    \n",
    "    response = requests.get(url, headers=headers, params=params)\n",
    "    \n",
    "    if response.status_code != 200:\n",
    "        print(f\"Error: Unable to access {url}\")\n",
    "        return []\n",
    "    \n",
    "    soup = BeautifulSoup(response.text, 'html.parser')\n",
    "    data_script = soup.find('script', {'id': 'data-deferred-state'})\n",
    "    \n",
    "    if not data_script:\n",
    "        print(\"Error: Unable to find data-deferred-state script tag.\")\n",
    "        return []\n",
    "    \n",
    "    data = json.loads(data_script.string)\n",
    "    listings = data.get('niobeMinimalClientData', [])[1][1]['data']['presentation']['explore']['sections']['sectionIndependentData']\n",
    "    \n",
    "    return listings\n",
    "\n",
    "def parse_listings(listings):\n",
    "    results = []\n",
    "    for listing in listings:\n",
    "        try:\n",
    "            result = {\n",
    "                'name': listing['listing']['name'],\n",
    "                'lat': listing['listing']['lat'],\n",
    "                'lng': listing['listing']['lng'],\n",
    "                'city': listing['listing']['city'],\n",
    "                'price': listing['pricingQuote']['rate']['amount'],\n",
    "                'currency': listing['pricingQuote']['rate']['currency'],\n",
    "                'url': f\"https://www.airbnb.com/rooms/{listing['listing']['id']}\"\n",
    "            }\n",
    "            results.append(result)\n",
    "        except KeyError:\n",
    "            continue\n",
    "    return results\n",
    "\n",
    "# Example Usage\n",
    "location = \"Zurich--Switzerland\"  # Use location name as in Airbnb URL\n",
    "all_listings = []\n",
    "\n",
    "for page in range(1, 3):  # Adjust the range to get more pages\n",
    "    listings = get_airbnb_listings(location, page)\n",
    "    all_listings.extend(parse_listings(listings))\n",
    "    time.sleep(2)  # Sleep to avoid rate limiting\n",
    "\n",
    "# Convert to DataFrame\n",
    "df = pd.DataFrame(all_listings)\n",
    "import ace_tools as tools; tools.display_dataframe_to_user(name=\"Airbnb Listings\", dataframe=df)\n",
    "\n",
    "# Save to CSV\n",
    "df.to_csv('airbnb_listings.csv', index=False)\n"
   ]
  },
  {
   "cell_type": "code",
   "execution_count": null,
   "id": "4960473f-e2b5-4298-b055-0a61b9784a73",
   "metadata": {},
   "outputs": [],
   "source": []
  }
 ],
 "metadata": {
  "kernelspec": {
   "display_name": "Python 3 (ipykernel)",
   "language": "python",
   "name": "python3"
  },
  "language_info": {
   "codemirror_mode": {
    "name": "ipython",
    "version": 3
   },
   "file_extension": ".py",
   "mimetype": "text/x-python",
   "name": "python",
   "nbconvert_exporter": "python",
   "pygments_lexer": "ipython3",
   "version": "3.9.18"
  }
 },
 "nbformat": 4,
 "nbformat_minor": 5
}
